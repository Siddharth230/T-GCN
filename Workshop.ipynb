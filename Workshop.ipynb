{
  "nbformat": 4,
  "nbformat_minor": 0,
  "metadata": {
    "colab": {
      "provenance": [],
      "authorship_tag": "ABX9TyM4zd5Kxnlq0ICLXUK0YoKa",
      "include_colab_link": true
    },
    "kernelspec": {
      "name": "python3",
      "display_name": "Python 3"
    },
    "language_info": {
      "name": "python"
    }
  },
  "cells": [
    {
      "cell_type": "markdown",
      "metadata": {
        "id": "view-in-github",
        "colab_type": "text"
      },
      "source": [
        "<a href=\"https://colab.research.google.com/github/Siddharth230/T-GCN/blob/master/Workshop.ipynb\" target=\"_parent\"><img src=\"https://colab.research.google.com/assets/colab-badge.svg\" alt=\"Open In Colab\"/></a>"
      ]
    },
    {
      "cell_type": "code",
      "execution_count": 1,
      "metadata": {
        "colab": {
          "base_uri": "https://localhost:8080/"
        },
        "id": "QzlqkwUcJ9Gm",
        "outputId": "7e1a26ea-be23-4555-88fa-5a8c88f35036"
      },
      "outputs": [
        {
          "output_type": "stream",
          "name": "stdout",
          "text": [
            "Looking in indexes: https://pypi.org/simple, https://us-python.pkg.dev/colab-wheels/public/simple/\n",
            "Collecting pyspark\n",
            "  Downloading pyspark-3.3.2.tar.gz (281.4 MB)\n",
            "\u001b[2K     \u001b[90m━━━━━━━━━━━━━━━━━━━━━━━━━━━━━━━━━━━━━━━\u001b[0m \u001b[32m281.4/281.4 MB\u001b[0m \u001b[31m5.5 MB/s\u001b[0m eta \u001b[36m0:00:00\u001b[0m\n",
            "\u001b[?25h  Preparing metadata (setup.py) ... \u001b[?25l\u001b[?25hdone\n",
            "Collecting py4j==0.10.9.5\n",
            "  Downloading py4j-0.10.9.5-py2.py3-none-any.whl (199 kB)\n",
            "\u001b[2K     \u001b[90m━━━━━━━━━━━━━━━━━━━━━━━━━━━━━━━━━━━━━━\u001b[0m \u001b[32m199.7/199.7 KB\u001b[0m \u001b[31m17.6 MB/s\u001b[0m eta \u001b[36m0:00:00\u001b[0m\n",
            "\u001b[?25hBuilding wheels for collected packages: pyspark\n",
            "  Building wheel for pyspark (setup.py) ... \u001b[?25l\u001b[?25hdone\n",
            "  Created wheel for pyspark: filename=pyspark-3.3.2-py2.py3-none-any.whl size=281824025 sha256=f15215e3eba7075a17486b4238f11dd621872da54e8b46182b2febd78e9169cf\n",
            "  Stored in directory: /root/.cache/pip/wheels/6c/e3/9b/0525ce8a69478916513509d43693511463c6468db0de237c86\n",
            "Successfully built pyspark\n",
            "Installing collected packages: py4j, pyspark\n",
            "Successfully installed py4j-0.10.9.5 pyspark-3.3.2\n"
          ]
        }
      ],
      "source": [
        "!pip install pyspark"
      ]
    },
    {
      "cell_type": "code",
      "source": [
        "from pyspark.sql import SparkSession"
      ],
      "metadata": {
        "id": "46blQ17MK1j6"
      },
      "execution_count": 2,
      "outputs": []
    },
    {
      "cell_type": "code",
      "source": [
        "spark = SparkSession.builder.appName(\"MyFirstApp\").getOrCreate()"
      ],
      "metadata": {
        "id": "Yy5X2qauLFwn"
      },
      "execution_count": 4,
      "outputs": []
    },
    {
      "cell_type": "code",
      "source": [
        "spark.read.option('header','true').csv('/content/dataset.csv').show()"
      ],
      "metadata": {
        "colab": {
          "base_uri": "https://localhost:8080/"
        },
        "id": "nURp1x6ZNstu",
        "outputId": "ed59a46d-595f-4b64-e951-89073e4a9d6d"
      },
      "execution_count": 6,
      "outputs": [
        {
          "output_type": "stream",
          "name": "stdout",
          "text": [
            "+-----+---+------+\n",
            "|Price|Qty|Amount|\n",
            "+-----+---+------+\n",
            "| 1076| 10| 10760|\n",
            "| 2215|  7| 15505|\n",
            "|  570|  3|  1710|\n",
            "| 1201|  3|  3603|\n",
            "|  317| 10|  3170|\n",
            "|  903|  8|  7224|\n",
            "| 1753|  7| 12271|\n",
            "|  386|  1|   386|\n",
            "| 2694|  1|  2694|\n",
            "| 1117|  4|  4468|\n",
            "|  655| 10|  6550|\n",
            "|  483|  3|  1449|\n",
            "| 1155| 10| 11550|\n",
            "| 2612|  4| 10448|\n",
            "| 1189|  2|  2378|\n",
            "| 1182|  2|  2364|\n",
            "| 2467| 10| 24670|\n",
            "|  323|  5|  1615|\n",
            "| 1013|  4|  4052|\n",
            "| 1725|  5|  8625|\n",
            "+-----+---+------+\n",
            "only showing top 20 rows\n",
            "\n"
          ]
        }
      ]
    },
    {
      "cell_type": "code",
      "source": [
        "pdf = spark.read.option('header','true').csv('/content/dataset.csv')"
      ],
      "metadata": {
        "id": "RZLIqee7QsLH"
      },
      "execution_count": 11,
      "outputs": []
    },
    {
      "cell_type": "code",
      "source": [
        "pdf.show()"
      ],
      "metadata": {
        "colab": {
          "base_uri": "https://localhost:8080/"
        },
        "id": "2Z21HOiRRHHt",
        "outputId": "b61ea9e7-a1d4-4f95-831d-e65fe0e975ba"
      },
      "execution_count": 13,
      "outputs": [
        {
          "output_type": "stream",
          "name": "stdout",
          "text": [
            "+-----+---+------+\n",
            "|Price|Qty|Amount|\n",
            "+-----+---+------+\n",
            "| 1076| 10| 10760|\n",
            "| 2215|  7| 15505|\n",
            "|  570|  3|  1710|\n",
            "| 1201|  3|  3603|\n",
            "|  317| 10|  3170|\n",
            "|  903|  8|  7224|\n",
            "| 1753|  7| 12271|\n",
            "|  386|  1|   386|\n",
            "| 2694|  1|  2694|\n",
            "| 1117|  4|  4468|\n",
            "|  655| 10|  6550|\n",
            "|  483|  3|  1449|\n",
            "| 1155| 10| 11550|\n",
            "| 2612|  4| 10448|\n",
            "| 1189|  2|  2378|\n",
            "| 1182|  2|  2364|\n",
            "| 2467| 10| 24670|\n",
            "|  323|  5|  1615|\n",
            "| 1013|  4|  4052|\n",
            "| 1725|  5|  8625|\n",
            "+-----+---+------+\n",
            "only showing top 20 rows\n",
            "\n"
          ]
        }
      ]
    },
    {
      "cell_type": "code",
      "source": [
        "type(pdf)"
      ],
      "metadata": {
        "colab": {
          "base_uri": "https://localhost:8080/"
        },
        "id": "rWtl1rofR2is",
        "outputId": "67626392-5cc6-4164-c7e8-4b203eb5dfd8"
      },
      "execution_count": 14,
      "outputs": [
        {
          "output_type": "execute_result",
          "data": {
            "text/plain": [
              "pyspark.sql.dataframe.DataFrame"
            ]
          },
          "metadata": {},
          "execution_count": 14
        }
      ]
    },
    {
      "cell_type": "code",
      "source": [
        "pdf.printSchema()"
      ],
      "metadata": {
        "colab": {
          "base_uri": "https://localhost:8080/"
        },
        "id": "PfdeC8zsR8UR",
        "outputId": "f620a928-ef9e-4ee4-808d-7fabca31a7f2"
      },
      "execution_count": 15,
      "outputs": [
        {
          "output_type": "stream",
          "name": "stdout",
          "text": [
            "root\n",
            " |-- Price: string (nullable = true)\n",
            " |-- Qty: string (nullable = true)\n",
            " |-- Amount: string (nullable = true)\n",
            "\n"
          ]
        }
      ]
    },
    {
      "cell_type": "code",
      "source": [
        "pdf.head(10)"
      ],
      "metadata": {
        "colab": {
          "base_uri": "https://localhost:8080/"
        },
        "id": "aPFP9Gh2SGA8",
        "outputId": "8b6e2982-b51e-469f-c6e2-ba3e0c89659d"
      },
      "execution_count": 16,
      "outputs": [
        {
          "output_type": "execute_result",
          "data": {
            "text/plain": [
              "[Row(Price='1076', Qty='10', Amount='10760'),\n",
              " Row(Price='2215', Qty='7', Amount='15505'),\n",
              " Row(Price='570', Qty='3', Amount='1710'),\n",
              " Row(Price='1201', Qty='3', Amount='3603'),\n",
              " Row(Price='317', Qty='10', Amount='3170'),\n",
              " Row(Price='903', Qty='8', Amount='7224'),\n",
              " Row(Price='1753', Qty='7', Amount='12271'),\n",
              " Row(Price='386', Qty='1', Amount='386'),\n",
              " Row(Price='2694', Qty='1', Amount='2694'),\n",
              " Row(Price='1117', Qty='4', Amount='4468')]"
            ]
          },
          "metadata": {},
          "execution_count": 16
        }
      ]
    }
  ]
}